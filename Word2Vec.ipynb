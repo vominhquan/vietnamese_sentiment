{
 "cells": [
  {
   "cell_type": "code",
   "execution_count": 1,
   "metadata": {
    "collapsed": true
   },
   "outputs": [],
   "source": [
    "import os\n",
    "import pickle\n",
    "from gensim.models import Word2Vec"
   ]
  },
  {
   "cell_type": "markdown",
   "metadata": {},
   "source": [
    "# train model"
   ]
  },
  {
   "cell_type": "code",
   "execution_count": 38,
   "metadata": {
    "collapsed": true
   },
   "outputs": [],
   "source": [
    "def preprocess(a):\n",
    "    a = a.lower()\n",
    "    remove_char = [',', '?', '(', ')', '\"', '\\'', ':', '<', '>']\n",
    "    for rc in remove_char:\n",
    "        a = a.replace(rc, '')\n",
    "    return a"
   ]
  },
  {
   "cell_type": "code",
   "execution_count": 39,
   "metadata": {
    "collapsed": true
   },
   "outputs": [],
   "source": [
    "class Sentences(object):\n",
    "    def __init__(self, dirname):\n",
    "        self.dirname = dirname\n",
    " \n",
    "    def __iter__(self):\n",
    "        with open(self.dirname) as file:\n",
    "            for sen in preprocess(file.read()).split('.'):\n",
    "                yield sen.split()"
   ]
  },
  {
   "cell_type": "code",
   "execution_count": 40,
   "metadata": {
    "collapsed": true
   },
   "outputs": [],
   "source": [
    "sentences = Sentences(os.getcwd() + '/Data/all_data.txt')"
   ]
  },
  {
   "cell_type": "code",
   "execution_count": 42,
   "metadata": {
    "collapsed": true
   },
   "outputs": [],
   "source": [
    "model = Word2Vec(sentences, iter=1)"
   ]
  },
  {
   "cell_type": "markdown",
   "metadata": {},
   "source": [
    "# or read trained model"
   ]
  },
  {
   "cell_type": "code",
   "execution_count": 2,
   "metadata": {
    "collapsed": true
   },
   "outputs": [],
   "source": [
    "with open('all_model.pickle', 'rb') as handle:\n",
    "    model = pickle.load(handle)"
   ]
  },
  {
   "cell_type": "code",
   "execution_count": 2,
   "metadata": {
    "collapsed": true
   },
   "outputs": [],
   "source": [
    "with open('W2V_all_data_model.pickle', 'rb') as handle:\n",
    "    model = pickle.load(handle)"
   ]
  },
  {
   "cell_type": "code",
   "execution_count": 3,
   "metadata": {},
   "outputs": [
    {
     "data": {
      "text/plain": [
       "1224.5095934820006"
      ]
     },
     "execution_count": 3,
     "metadata": {},
     "output_type": "execute_result"
    }
   ],
   "source": [
    "model.total_train_time"
   ]
  },
  {
   "cell_type": "code",
   "execution_count": 4,
   "metadata": {},
   "outputs": [
    {
     "name": "stdout",
     "output_type": "stream",
     "text": [
      "vocab len: 128774\n",
      "total words: 98306065\n"
     ]
    }
   ],
   "source": [
    "count = 0\n",
    "for word, vocab_obj in model.wv.vocab.items():\n",
    "    count += vocab_obj.count\n",
    "    \n",
    "print('vocab len:', len(list(model.wv.vocab)))\n",
    "print('total words:', count)"
   ]
  },
  {
   "cell_type": "code",
   "execution_count": 9,
   "metadata": {},
   "outputs": [
    {
     "data": {
      "text/plain": [
       "[('mặt_hàng', 0.7480514049530029),\n",
       " ('nguyên_liệu', 0.6782456040382385),\n",
       " ('thương_hiệu', 0.6736682653427124),\n",
       " ('thị_trường', 0.6442872285842896),\n",
       " ('nhãn_hiệu', 0.6300941705703735),\n",
       " ('phụ_kiện', 0.6246313452720642),\n",
       " ('nhãn_mác', 0.6026595830917358),\n",
       " ('nhu_yếu_phẩm', 0.6017205715179443),\n",
       " ('mẫu', 0.6004821062088013),\n",
       " ('tính_năng', 0.5990504026412964)]"
      ]
     },
     "execution_count": 9,
     "metadata": {},
     "output_type": "execute_result"
    }
   ],
   "source": [
    "model.wv.most_similar('sản_phẩm')"
   ]
  },
  {
   "cell_type": "code",
   "execution_count": 7,
   "metadata": {},
   "outputs": [
    {
     "data": {
      "text/plain": [
       "[('ưa', 0.6468616724014282),\n",
       " ('ghét', 0.6290005445480347),\n",
       " ('ưa_thích', 0.5921980142593384),\n",
       " ('mê', 0.5783791542053223),\n",
       " ('giản_dị', 0.5602618455886841),\n",
       " ('thú_vị', 0.5474229454994202),\n",
       " ('yêu_quý', 0.54387366771698),\n",
       " ('hiền_lành', 0.5376157164573669),\n",
       " ('tuyệt_vời', 0.5345072746276855),\n",
       " ('tồi', 0.5330214500427246)]"
      ]
     },
     "execution_count": 7,
     "metadata": {},
     "output_type": "execute_result"
    }
   ],
   "source": [
    "model.wv.most_similar('thích')"
   ]
  },
  {
   "cell_type": "code",
   "execution_count": 11,
   "metadata": {},
   "outputs": [
    {
     "data": {
      "text/plain": [
       "[('đào_tạo', 0.6101565957069397),\n",
       " ('từ_điển_học', 0.56141597032547),\n",
       " ('tư_pháp', 0.5394613742828369),\n",
       " ('hệ_đào_tạo', 0.5219879746437073),\n",
       " ('phúc_lợi', 0.5098443031311035),\n",
       " ('y_tế', 0.5073703527450562),\n",
       " ('kinh_tế_thị_trường', 0.4977545738220215),\n",
       " ('khoa_học', 0.4945729076862335),\n",
       " ('giáo_dục_phổ_thông', 0.4866657853126526),\n",
       " ('khcn', 0.48615115880966187)]"
      ]
     },
     "execution_count": 11,
     "metadata": {},
     "output_type": "execute_result"
    }
   ],
   "source": [
    "model.wv.most_similar('giáo_dục')"
   ]
  },
  {
   "cell_type": "code",
   "execution_count": 12,
   "metadata": {},
   "outputs": [
    {
     "data": {
      "text/plain": [
       "[('tiểu_học', 0.7755419015884399),\n",
       " ('thpt', 0.7661886811256409),\n",
       " ('mầm_non', 0.6860359311103821),\n",
       " ('ptcs', 0.6817128658294678),\n",
       " ('trung_học_phổ_thông', 0.6775704622268677),\n",
       " ('trường_tiểu_học', 0.6562929153442383),\n",
       " ('trung_học_cơ_sở', 0.6555362939834595),\n",
       " ('lương_thế_vinh', 0.6432504653930664),\n",
       " ('đoàn_thị_điểm', 0.6416928768157959),\n",
       " ('ngô_sĩ_liên', 0.6357799768447876)]"
      ]
     },
     "execution_count": 12,
     "metadata": {},
     "output_type": "execute_result"
    }
   ],
   "source": [
    "model.wv.most_similar('thcs')"
   ]
  },
  {
   "cell_type": "code",
   "execution_count": 14,
   "metadata": {},
   "outputs": [
    {
     "data": {
      "text/plain": [
       "[('lớn_tuổi', 0.5611525177955627),\n",
       " ('xuất_sắc', 0.5606471300125122),\n",
       " ('nhỏ_tuổi', 0.544252872467041),\n",
       " ('nổi_trội', 0.4979679584503174),\n",
       " ('ngoan', 0.4807884097099304),\n",
       " ('thích', 0.46438154578208923),\n",
       " ('ưu_tú', 0.4581439197063446),\n",
       " ('ngưỡng_mộ', 0.45550015568733215),\n",
       " ('judo', 0.4494696259498596),\n",
       " ('ghét', 0.44685396552085876)]"
      ]
     },
     "execution_count": 14,
     "metadata": {},
     "output_type": "execute_result"
    }
   ],
   "source": [
    "model.wv.most_similar('giỏi')"
   ]
  },
  {
   "cell_type": "code",
   "execution_count": 15,
   "metadata": {},
   "outputs": [
    {
     "data": {
      "text/plain": [
       "[('sung_mãn', 0.6942979097366333),\n",
       " ('hiệu_quả', 0.6650571823120117),\n",
       " ('khả_dĩ', 0.6362558603286743),\n",
       " ('cao', 0.6346288323402405),\n",
       " ('hoàn_hảo', 0.6179211139678955),\n",
       " ('khó', 0.6161355376243591),\n",
       " ('thuận_lợi', 0.5873697996139526),\n",
       " ('tích_cực', 0.586907148361206),\n",
       " ('quan_trọng', 0.5816546678543091),\n",
       " ('tuyệt_vời', 0.5770942568778992)]"
      ]
     },
     "execution_count": 15,
     "metadata": {},
     "output_type": "execute_result"
    }
   ],
   "source": [
    "model.wv.most_similar('tốt')"
   ]
  },
  {
   "cell_type": "code",
   "execution_count": 21,
   "metadata": {},
   "outputs": [
    {
     "data": {
      "text/plain": [
       "[('sinh_động', 0.6475219130516052),\n",
       " ('khéo_léo', 0.6082953214645386),\n",
       " ('ưu_việt', 0.5870509147644043),\n",
       " ('nhạy_bén', 0.5833022594451904),\n",
       " ('trực_quan', 0.5793653726577759),\n",
       " ('đẹp_mắt', 0.5719985365867615),\n",
       " ('nhanh_nhạy', 0.5697632431983948),\n",
       " ('độc_đáo', 0.5677825212478638),\n",
       " ('nhanh_nhẹn', 0.5546034574508667),\n",
       " ('robot', 0.5509659051895142)]"
      ]
     },
     "execution_count": 21,
     "metadata": {},
     "output_type": "execute_result"
    }
   ],
   "source": [
    "model.wv.most_similar('thông_minh')"
   ]
  },
  {
   "cell_type": "code",
   "execution_count": 23,
   "metadata": {},
   "outputs": [
    {
     "data": {
      "text/plain": [
       "[('đồng_đều', 0.5760109424591064),\n",
       " ('phân_bố', 0.5161522626876831),\n",
       " ('cục_bộ', 0.4972292184829712),\n",
       " ('tương_quan', 0.4874141216278076),\n",
       " ('hợp_lý', 0.48472946882247925),\n",
       " ('điện_ly', 0.47900620102882385),\n",
       " ('đồng_nhất', 0.47233542799949646),\n",
       " ('tây_nam', 0.4717167317867279),\n",
       " ('cào_bằng', 0.4663963317871094),\n",
       " ('công_bằng', 0.4648197889328003)]"
      ]
     },
     "execution_count": 23,
     "metadata": {},
     "output_type": "execute_result"
    }
   ],
   "source": [
    "model.wv.most_similar('hợp_lí')"
   ]
  },
  {
   "cell_type": "code",
   "execution_count": 24,
   "metadata": {},
   "outputs": [
    {
     "data": {
      "text/plain": [
       "[('giá', 0.6024143695831299),\n",
       " ('giá_thành', 0.5812340974807739),\n",
       " ('tiện_lợi', 0.5763718485832214),\n",
       " ('rẻ', 0.565301239490509),\n",
       " ('đắt_đỏ', 0.5493500232696533),\n",
       " ('mặt_hàng', 0.535508394241333),\n",
       " ('hàng_hoá', 0.5270289778709412),\n",
       " ('thu_nhập', 0.5227181911468506),\n",
       " ('lương_thực', 0.5226455926895142),\n",
       " ('chợ_đen', 0.5165935158729553)]"
      ]
     },
     "execution_count": 24,
     "metadata": {},
     "output_type": "execute_result"
    }
   ],
   "source": [
    "model.wv.most_similar('giá_cả')"
   ]
  },
  {
   "cell_type": "code",
   "execution_count": null,
   "metadata": {
    "collapsed": true
   },
   "outputs": [],
   "source": []
  }
 ],
 "metadata": {
  "kernelspec": {
   "display_name": "Python 3",
   "language": "python",
   "name": "python3"
  },
  "language_info": {
   "codemirror_mode": {
    "name": "ipython",
    "version": 3
   },
   "file_extension": ".py",
   "mimetype": "text/x-python",
   "name": "python",
   "nbconvert_exporter": "python",
   "pygments_lexer": "ipython3",
   "version": "3.6.1"
  }
 },
 "nbformat": 4,
 "nbformat_minor": 2
}
